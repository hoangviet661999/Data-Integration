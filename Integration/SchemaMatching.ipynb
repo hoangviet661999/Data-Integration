{
  "cells": [
    {
      "cell_type": "code",
      "execution_count": null,
      "metadata": {
        "colab": {
          "base_uri": "https://localhost:8080/"
        },
        "id": "Gmj2R-nhlqpp",
        "outputId": "8d163085-5a7f-4d20-e9d2-d9522050d873"
      },
      "outputs": [
        {
          "output_type": "stream",
          "name": "stdout",
          "text": [
            "Mounted at /content/drive\n"
          ]
        }
      ],
      "source": [
        "from google.colab import drive\n",
        "drive.mount('/content/drive')"
      ]
    },
    {
      "cell_type": "code",
      "execution_count": null,
      "metadata": {
        "colab": {
          "base_uri": "https://localhost:8080/"
        },
        "id": "7FkYDgHflocw",
        "outputId": "7f48170a-a7ad-4a5c-cc0b-8b7956142fff"
      },
      "outputs": [
        {
          "output_type": "stream",
          "name": "stdout",
          "text": [
            "/content/drive/.shortcut-targets-by-id/1kdSQxLU563_8sd8nvQTr-Z08SiwQ3jyp/Tích hợp dữ liệu/preprocessed data\n"
          ]
        }
      ],
      "source": [
        "cd '/content/drive/MyDrive/Tích hợp dữ liệu/preprocessed data'"
      ]
    },
    {
      "cell_type": "code",
      "execution_count": null,
      "metadata": {
        "colab": {
          "base_uri": "https://localhost:8080/"
        },
        "id": "Z3PZAKJjl5Wg",
        "outputId": "3f2d9e03-7783-45fd-e7c4-20465feee7df"
      },
      "outputs": [
        {
          "output_type": "stream",
          "name": "stdout",
          "text": [
            "Looking in indexes: https://pypi.org/simple, https://us-python.pkg.dev/colab-wheels/public/simple/\n",
            "Collecting fuzzywuzzy\n",
            "  Downloading fuzzywuzzy-0.18.0-py2.py3-none-any.whl (18 kB)\n",
            "Installing collected packages: fuzzywuzzy\n",
            "Successfully installed fuzzywuzzy-0.18.0\n"
          ]
        }
      ],
      "source": [
        "!pip install fuzzywuzzy"
      ]
    },
    {
      "cell_type": "code",
      "execution_count": null,
      "metadata": {
        "colab": {
          "base_uri": "https://localhost:8080/"
        },
        "id": "aV1nEGHjlk6T",
        "outputId": "f8b6146e-448d-43ef-9717-1b057ba93111"
      },
      "outputs": [
        {
          "output_type": "stream",
          "name": "stderr",
          "text": [
            "/usr/local/lib/python3.7/dist-packages/fuzzywuzzy/fuzz.py:11: UserWarning: Using slow pure-python SequenceMatcher. Install python-Levenshtein to remove this warning\n",
            "  warnings.warn('Using slow pure-python SequenceMatcher. Install python-Levenshtein to remove this warning')\n"
          ]
        }
      ],
      "source": [
        "import numpy,datetime,re\n",
        "import pandas as pd\n",
        "import numpy as np\n",
        "from fuzzywuzzy import fuzz\n",
        "from difflib import SequenceMatcher"
      ]
    },
    {
      "cell_type": "markdown",
      "source": [
        "#Schema matching"
      ],
      "metadata": {
        "id": "JaBMkVlHl9wd"
      }
    },
    {
      "cell_type": "code",
      "execution_count": null,
      "metadata": {
        "id": "SNsnMpKZlk6b"
      },
      "outputs": [],
      "source": [
        "#READ DATA:\n",
        "IMDB_DF = pd.read_csv(\"dmx.csv\")\n",
        "IMDB_DF = IMDB_DF[[\"ten\", \"gia\", \"loai_may\", \"hang\", \"khoi_luong_giat\"]]\n",
        "IMDB_DF_SAMPLE = IMDB_DF.sample(10).astype(str)\n",
        "imdb_header_list = list(IMDB_DF.columns.values)\n",
        "\n",
        "#imdb_header\n",
        "imdb_header_array = np.array(imdb_header_list)"
      ]
    },
    {
      "cell_type": "code",
      "execution_count": null,
      "metadata": {
        "collapsed": true,
        "id": "rSOlYvzblk6d"
      },
      "outputs": [],
      "source": [
        "#ROTTEN_TOMATOES_DF = pd.read_csv(\"dmcl.csv\")\n",
        "#ROTTEN_TOMATOES_DF = ROTTEN_TOMATOES_DF[[ \"ten\", \"gia\", \"loai_may_cua\", \"hang\", \"khoi_luong_giat\"]]\n",
        "#ROTTEN_TOMATOES_DF = pd.read_csv(\"nk.csv\")\n",
        "#ROTTEN_TOMATOES_DF = ROTTEN_TOMATOES_DF[[\"title\", \"price\", \"Loại máy giặt:\", \"Nhà sản xuất:\", \"khoi_luong_giat\"]]\n",
        "ROTTEN_TOMATOES_DF = pd.read_csv(\"pico.csv\")\n",
        "ROTTEN_TOMATOES_DF = ROTTEN_TOMATOES_DF[[\"ten\", \"gia\", \"loai_may\", \"hang\", \"khoi_luong_giat\"]]\n",
        "ROTTEN_TOMATOES_DF_SAMPLE = ROTTEN_TOMATOES_DF.sample(10).astype(str)\n",
        "rt_header_list = list(ROTTEN_TOMATOES_DF.columns.values)\n",
        "#rt_header\n",
        "rt_header_array = np.array(rt_header_list)"
      ]
    },
    {
      "cell_type": "code",
      "execution_count": null,
      "metadata": {
        "collapsed": true,
        "id": "ZFTakbqTlk6f"
      },
      "outputs": [],
      "source": [
        "#creation array to add sort index of matching\n",
        "# For matching\n",
        "Pref=np.zeros((len(imdb_header_array),len(rt_header_array)))\n",
        "#for Tomatoes\n",
        "pref_tom=np.zeros((len(imdb_header_array),len(rt_header_array)),dtype=np.int8)\n",
        "ipref_tom=np.zeros((len(imdb_header_array),len(rt_header_array)),dtype=np.int8)\n",
        "#for IMdb\n",
        "ipref_imdb=np.zeros((len(rt_header_array),len(imdb_header_array)),dtype=np.int8)\n",
        "pref_imdb=np.zeros((len(rt_header_array),len(imdb_header_array)),dtype=np.int8)"
      ]
    },
    {
      "cell_type": "code",
      "execution_count": null,
      "metadata": {
        "collapsed": true,
        "id": "8IL1tMLdlk6h"
      },
      "outputs": [],
      "source": [
        "def check_short_matching(COL1,COL2):\n",
        "    rate = 0.0\n",
        "    if str(COL1) == 'nan' or str(COL2) == 'nan' :\n",
        "        return 0\n",
        "    COL1 = str(COL1)\n",
        "    COL2 = str(COL2)\n",
        "    sw = (fuzz.SequenceMatcher(None,COL1, COL2).ratio())\n",
        "    return sw #/(max(len(COL1),len(COL2))*1.0)"
      ]
    },
    {
      "cell_type": "code",
      "execution_count": null,
      "metadata": {
        "collapsed": true,
        "id": "-PA-xDDplk6j"
      },
      "outputs": [],
      "source": [
        "def check_match(st1,st2):\n",
        "    str1 = np.array((st1.values).astype(str))\n",
        "    str2 = np.array((st2.values).astype(str))\n",
        "    ret = np.zeros((len(str1),len(str2)))\n",
        "    for i in range(len(str1)):\n",
        "        for j in range(len(str2)):\n",
        "            ret[i,j] = check_short_matching(str1[i],str2[j])\n",
        "    return np.average(ret)"
      ]
    },
    {
      "cell_type": "code",
      "execution_count": null,
      "metadata": {
        "colab": {
          "base_uri": "https://localhost:8080/"
        },
        "collapsed": true,
        "id": "VibHSUlKlk6k",
        "outputId": "aed92ebe-c4ce-4c3c-d278-f126759cdef9"
      },
      "outputs": [
        {
          "output_type": "stream",
          "name": "stderr",
          "text": [
            "/usr/local/lib/python3.7/dist-packages/ipykernel_launcher.py:7: DeprecationWarning: `np.float` is a deprecated alias for the builtin `float`. To silence this warning, use `float` by itself. Doing this will not modify any behavior and is safe. If you specifically wanted the numpy scalar type, use `np.float64` here.\n",
            "Deprecated in NumPy 1.20; for more details and guidance: https://numpy.org/devdocs/release/1.20.0-notes.html#deprecations\n",
            "  import sys\n"
          ]
        }
      ],
      "source": [
        "index_i = 0\n",
        "for i in IMDB_DF_SAMPLE:\n",
        "    index_j = 0\n",
        "    for j in ROTTEN_TOMATOES_DF_SAMPLE:\n",
        "        table1 = IMDB_DF_SAMPLE[i]\n",
        "        table2 = ROTTEN_TOMATOES_DF_SAMPLE[j]\n",
        "        Pref[index_i,index_j] = 100 * (np.float(check_match(table1, table2)))\n",
        "        index_j+=1\n",
        "    index_i+=1"
      ]
    },
    {
      "cell_type": "code",
      "execution_count": null,
      "metadata": {
        "collapsed": true,
        "id": "ubJ-Wvhzlk6n"
      },
      "outputs": [],
      "source": [
        "#assign the array indexs of Pref sorted by the actual values decending based on the lenght of rt_header_array (17)\n",
        "for i in range(len(rt_header_array)):\n",
        "    ipref_tom[:,i]=np.argsort(Pref[:,i])\n",
        "    ipref_tom[:,i]=ipref_tom[::-1,i]\n",
        "    pref_tom[:,i]=np.sort(Pref[:,i])\n",
        "    pref_tom[:,i]=pref_tom[::-1,i]\n",
        "#ipref_tom"
      ]
    },
    {
      "cell_type": "code",
      "execution_count": null,
      "metadata": {
        "collapsed": true,
        "id": "zpi5e64Jlk6o"
      },
      "outputs": [],
      "source": [
        "#assign the array indexs of Pref sorted by the actual values decending based on the lenght of imdb_header_array (13)\n",
        "for i in range(len(imdb_header_array)):\n",
        "    #get indexs values of rows and store them in the rows as well\n",
        "    ipref_imdb[:,i] = np.argsort(Pref[i,:])\n",
        "    ipref_imdb[:,i] = ipref_imdb[::-1,i]\n",
        "    pref_imdb[:,i] = np.sort(Pref[i,:])"
      ]
    },
    {
      "cell_type": "code",
      "execution_count": null,
      "metadata": {
        "collapsed": true,
        "id": "X6thcKVRlk6q"
      },
      "outputs": [],
      "source": [
        "#create list of preferred_rankings_tomatoes with header\n",
        "preferred_rankings_tomatoes = {}\n",
        "for i in range(len(rt_header_array)):\n",
        "    preferred_rankings_tomatoes[i] = ipref_tom[:,i]\n"
      ]
    },
    {
      "cell_type": "code",
      "execution_count": null,
      "metadata": {
        "collapsed": true,
        "id": "lERTPGGrlk6s"
      },
      "outputs": [],
      "source": [
        "#create list of preferred_rankings_Imdb with header\n",
        "preferred_rankings_imdb = {}\n",
        "for i in range(len(imdb_header_array)):\n",
        "    preferred_rankings_imdb[i] = ipref_imdb[:,i]"
      ]
    },
    {
      "cell_type": "code",
      "execution_count": null,
      "metadata": {
        "collapsed": true,
        "id": "UJXUaUqdlk6t"
      },
      "outputs": [],
      "source": [
        "tentative_engagements = []\n",
        "free_imdbs = []\n",
        "corresponacy1 = []"
      ]
    },
    {
      "cell_type": "code",
      "execution_count": null,
      "metadata": {
        "collapsed": true,
        "id": "Qn3c4-Eilk6u"
      },
      "outputs": [],
      "source": [
        "#Imdb which still need to propose and get accepted successfully\n",
        "#Keep track of the headers that \"may\" end up together\n",
        "def init_free_imdbs():\n",
        "    #corresponacy1 = list.clear()\n",
        "    #'''Initialize the arrays of tomates and imdbs to represent that they're all initially free and not engaged'''\n",
        "    for imdb in preferred_rankings_imdb.keys():\n",
        "        free_imdbs.append(imdb)"
      ]
    },
    {
      "cell_type": "code",
      "execution_count": null,
      "metadata": {
        "collapsed": true,
        "id": "FQSPez4jlk6v"
      },
      "outputs": [],
      "source": [
        "def begin_matching(imdb):\n",
        "    #Find the first free Tomaten available to a Imdb at any given time\n",
        "    for tomate in preferred_rankings_imdb[imdb]:\n",
        "        #Boolean for whether tomate is taken or not\n",
        "        taken_match = [couple for couple in tentative_engagements if tomate == couple [:][1]]\n",
        "        if (len(taken_match) == 0):\n",
        "            #tentatively engage the man and woman\n",
        "            tentative_engagements.append([imdb, tomate])\n",
        "            free_imdbs.remove(imdb)\n",
        "            break\n",
        "        elif (len(taken_match) > 0):\n",
        "            current_imdb = list(preferred_rankings_tomatoes[tomate].tolist()).index(taken_match[0][0])\n",
        "            potential_imdb = list(preferred_rankings_tomatoes[tomate].tolist()).index(imdb)\n",
        "            if (current_imdb < potential_imdb):\n",
        "                ii=[]\n",
        "            else: \n",
        "                #The new imdb is engaged\n",
        "                free_imdbs.remove(imdb)\n",
        "                #The old imdb is now single\n",
        "                free_imdbs.append(taken_match[0][0])\n",
        "                #Update the fiance of the tomaten (tentatively)\n",
        "                taken_match[0][0] = imdb\n",
        "                break"
      ]
    },
    {
      "cell_type": "code",
      "execution_count": null,
      "metadata": {
        "collapsed": true,
        "id": "S8Fkn8S_lk6w"
      },
      "outputs": [],
      "source": [
        "def stable_matching():\n",
        "    '''Matching algorithm until stable match terminates'''\n",
        "    while (len(free_imdbs) > 0):\n",
        "        for imdb in free_imdbs:\n",
        "            begin_matching(imdb)"
      ]
    },
    {
      "cell_type": "code",
      "execution_count": null,
      "metadata": {
        "collapsed": true,
        "id": "cO4gFoHQlk6x"
      },
      "outputs": [],
      "source": [
        "def output():\n",
        "    i = 0\n",
        "    for item in tentative_engagements:\n",
        "        matching=Pref[item[0],item[1]]\n",
        "        if(matching > 10.0):\n",
        "            corresponacy1.append(item)\n",
        "            print(f'{imdb_header_array[item[0]]} ----- {rt_header_array[item[1]]} with score {matching}')"
      ]
    },
    {
      "cell_type": "markdown",
      "source": [
        "#Result"
      ],
      "metadata": {
        "id": "VZYIgjc2mHE4"
      }
    },
    {
      "cell_type": "code",
      "source": [
        "#dmx vs pico\n",
        "def main():\n",
        "    tentative_engagements.clear()\n",
        "    free_imdbs.clear()\n",
        "    corresponacy1.clear()\n",
        "    init_free_imdbs()\n",
        "\n",
        "    print(free_imdbs)\n",
        "    stable_matching()\n",
        "    print(tentative_engagements)\n",
        "    output()\n",
        "main()"
      ],
      "metadata": {
        "id": "-iJaI-PsoAhr",
        "outputId": "d23a5184-20b6-4024-94ff-983813186ffa",
        "colab": {
          "base_uri": "https://localhost:8080/"
        }
      },
      "execution_count": null,
      "outputs": [
        {
          "output_type": "stream",
          "name": "stdout",
          "text": [
            "[0, 1, 2, 3, 4]\n",
            "[[0, 0], [2, 2], [4, 4], [1, 1], [3, 3]]\n",
            "ten ----- ten with score 39.496554178774915\n",
            "loai_may ----- loai_may with score 50.761107742989054\n",
            "khoi_luong_giat ----- khoi_luong_giat with score 26.563492063492067\n",
            "gia ----- gia with score 67.77037455298324\n",
            "hang ----- hang with score 35.44156900890647\n"
          ]
        }
      ]
    },
    {
      "cell_type": "code",
      "source": [
        "#dmx vs dmcl\n",
        "def main():\n",
        "    tentative_engagements.clear()\n",
        "    free_imdbs.clear()\n",
        "    corresponacy1.clear()\n",
        "    init_free_imdbs()\n",
        "\n",
        "    print(free_imdbs)\n",
        "    stable_matching()\n",
        "    print(tentative_engagements)\n",
        "    output()\n",
        "main()"
      ],
      "metadata": {
        "colab": {
          "base_uri": "https://localhost:8080/"
        },
        "id": "iTQ5IOninfx0",
        "outputId": "259c1190-d50a-4ef5-da05-c6e36d5db999"
      },
      "execution_count": null,
      "outputs": [
        {
          "output_type": "stream",
          "name": "stdout",
          "text": [
            "[0, 1, 2, 3, 4]\n",
            "[[0, 0], [2, 2], [4, 4], [1, 1], [3, 3]]\n",
            "ten ----- ten with score 50.82955369801915\n",
            "loai_may ----- loai_may_cua with score 76.13643790849673\n",
            "khoi_luong_giat ----- khoi_luong_giat with score 28.004761904761903\n",
            "gia ----- gia with score 69.25108225108227\n",
            "hang ----- hang with score 29.50023541989486\n"
          ]
        }
      ]
    },
    {
      "cell_type": "code",
      "source": [
        "#dmx vs nk\n",
        "def main():\n",
        "    tentative_engagements.clear()\n",
        "    free_imdbs.clear()\n",
        "    corresponacy1.clear()\n",
        "    init_free_imdbs()\n",
        "\n",
        "    print(free_imdbs)\n",
        "    stable_matching()\n",
        "    print(tentative_engagements)\n",
        "    output()\n",
        "main()"
      ],
      "metadata": {
        "colab": {
          "base_uri": "https://localhost:8080/"
        },
        "id": "6FtTmBsJnJr3",
        "outputId": "d8837e11-3269-4e16-951c-db540da3ae95"
      },
      "execution_count": null,
      "outputs": [
        {
          "output_type": "stream",
          "name": "stdout",
          "text": [
            "[0, 1, 2, 3, 4]\n",
            "[[0, 0], [2, 2], [4, 4], [1, 1], [3, 3]]\n",
            "ten ----- title with score 61.11125128257977\n",
            "loai_may ----- Loại máy giặt: with score 56.84338432287615\n",
            "khoi_luong_giat ----- khoi_luong_giat with score 21.764285714285712\n",
            "gia ----- price with score 66.02973837756448\n",
            "hang ----- Nhà sản xuất: with score 23.311929642425\n"
          ]
        }
      ]
    }
  ],
  "metadata": {
    "colab": {
      "name": "SchemaMatching.ipynb",
      "provenance": []
    },
    "kernelspec": {
      "display_name": "Python 3",
      "language": "python",
      "name": "python3"
    },
    "language_info": {
      "codemirror_mode": {
        "name": "ipython",
        "version": 3
      },
      "file_extension": ".py",
      "mimetype": "text/x-python",
      "name": "python",
      "nbconvert_exporter": "python",
      "pygments_lexer": "ipython3",
      "version": "3.6.1"
    }
  },
  "nbformat": 4,
  "nbformat_minor": 0
}